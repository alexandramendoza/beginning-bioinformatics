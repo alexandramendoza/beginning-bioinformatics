{
  "nbformat": 4,
  "nbformat_minor": 0,
  "metadata": {
    "colab": {
      "provenance": [],
      "toc_visible": true,
      "authorship_tag": "ABX9TyOG8tsJx3vVX+5ixsUNE21n",
      "include_colab_link": true
    },
    "kernelspec": {
      "name": "python3",
      "display_name": "Python 3"
    },
    "language_info": {
      "name": "python"
    }
  },
  "cells": [
    {
      "cell_type": "markdown",
      "metadata": {
        "id": "view-in-github",
        "colab_type": "text"
      },
      "source": [
        "<a href=\"https://colab.research.google.com/github/alexandramendoza/beginning-bioinformatics/blob/main/notebooks/Bioinformatics_Module03.ipynb\" target=\"_parent\"><img src=\"https://colab.research.google.com/assets/colab-badge.svg\" alt=\"Open In Colab\"/></a>"
      ]
    },
    {
      "cell_type": "code",
      "execution_count": null,
      "metadata": {
        "id": "xuWhMhBtEOUc"
      },
      "outputs": [],
      "source": []
    },
    {
      "cell_type": "markdown",
      "source": [
        "Rosalind #1\n"
      ],
      "metadata": {
        "id": "zx4zzEP8NMln"
      }
    },
    {
      "cell_type": "code",
      "source": [
        "a = 828\n",
        "b = 891\n",
        "c = a**2 + b**2\n",
        "\n",
        "print (c)"
      ],
      "metadata": {
        "colab": {
          "base_uri": "https://localhost:8080/"
        },
        "id": "JrXmWtbhGKuE",
        "outputId": "cf454ead-5d4f-49ef-b933-fd1acbde174f"
      },
      "execution_count": null,
      "outputs": [
        {
          "output_type": "stream",
          "name": "stdout",
          "text": [
            "1479465\n"
          ]
        }
      ]
    },
    {
      "cell_type": "markdown",
      "source": [
        "Task P6.2\n",
        "\n"
      ],
      "metadata": {
        "id": "CfILfueoN5ZT"
      }
    },
    {
      "cell_type": "code",
      "source": [
        "a = int(input (\"Enter value for a: \"))\n",
        "b = int(input (\"Enter value for b: \"))\n",
        "c = a**2 + b**2\n",
        "print(\"The square of the hypotenuse is \",c)"
      ],
      "metadata": {
        "colab": {
          "base_uri": "https://localhost:8080/"
        },
        "id": "WNjhnyqAN-Cq",
        "outputId": "f88c687b-0476-411e-8d9a-a851a272d527"
      },
      "execution_count": null,
      "outputs": [
        {
          "output_type": "stream",
          "name": "stdout",
          "text": [
            "Enter value for a: 3\n",
            "Enter value for b: 5\n",
            "The square of the hypotenuse is  34\n",
            "Enter value for a: 828\n",
            "Enter value for b: 891\n",
            "The square of the hypotenuse is  1479465\n"
          ]
        }
      ]
    },
    {
      "cell_type": "markdown",
      "source": [
        "Task P7.1\n"
      ],
      "metadata": {
        "id": "7Om7mhziQ0bS"
      }
    },
    {
      "cell_type": "code",
      "source": [
        "# Create a list with 3 elements and then print them\n",
        "\n",
        "my_list = [\"Hello\", \"World\", \"Charles Darwin\"]\n",
        "print(my_list[1])"
      ],
      "metadata": {
        "colab": {
          "base_uri": "https://localhost:8080/"
        },
        "id": "fPyclgTCQ3gY",
        "outputId": "53282d67-45b7-42e9-8513-0668fa5d4f20"
      },
      "execution_count": null,
      "outputs": [
        {
          "output_type": "stream",
          "name": "stdout",
          "text": [
            "World\n"
          ]
        }
      ]
    },
    {
      "cell_type": "markdown",
      "source": [
        "Task P7.2"
      ],
      "metadata": {
        "id": "tkbY-iX6RYod"
      }
    },
    {
      "cell_type": "code",
      "source": [
        "# Substitute the item at index 2 in the list\n",
        "my_list[2] = \"Alfred R. Wallace\"\n",
        "print (my_list)"
      ],
      "metadata": {
        "colab": {
          "base_uri": "https://localhost:8080/"
        },
        "id": "vszkjQoFRahx",
        "outputId": "ffb78379-62b5-4bc1-b1ad-d80de3eaaa09"
      },
      "execution_count": null,
      "outputs": [
        {
          "output_type": "stream",
          "name": "stdout",
          "text": [
            "['Hello', 'World', 'Alfred R. Wallace']\n"
          ]
        }
      ]
    },
    {
      "cell_type": "markdown",
      "source": [
        "Task P7.3"
      ],
      "metadata": {
        "id": "U8Lm1bM2RuyX"
      }
    },
    {
      "cell_type": "code",
      "source": [
        "# Insert an item at a specific index in the list\n",
        "my_list.insert(0, \"New Item\")\n",
        "print (my_list)"
      ],
      "metadata": {
        "colab": {
          "base_uri": "https://localhost:8080/"
        },
        "id": "hwHybP1VRwu1",
        "outputId": "9c9540d8-d58d-4211-9064-e66db93f8374"
      },
      "execution_count": null,
      "outputs": [
        {
          "output_type": "stream",
          "name": "stdout",
          "text": [
            "['New Item', 'Hello', 'World', 'Alfred R. Wallace', 'Charles Darwin']\n"
          ]
        }
      ]
    },
    {
      "cell_type": "markdown",
      "source": [
        "Task P8.1"
      ],
      "metadata": {
        "id": "sl9vz7_KSjg5"
      }
    },
    {
      "cell_type": "code",
      "source": [
        "# Slice\n",
        "print (my_list[2:4])\n"
      ],
      "metadata": {
        "colab": {
          "base_uri": "https://localhost:8080/"
        },
        "id": "jzZjHlSxSmKp",
        "outputId": "437b87f4-4547-44f3-ef49-68eeb04bf434"
      },
      "execution_count": null,
      "outputs": [
        {
          "output_type": "stream",
          "name": "stdout",
          "text": [
            "['World', 'Alfred R. Wallace']\n"
          ]
        }
      ]
    },
    {
      "cell_type": "code",
      "source": [
        "my_string = \"HelloWorldCharlesDarwinAlfred R. Wallace\"\n",
        "print (my_string[0:5], my_string[5:10])"
      ],
      "metadata": {
        "colab": {
          "base_uri": "https://localhost:8080/"
        },
        "id": "oNwRhM2rS4-1",
        "outputId": "e92902e8-de31-4d10-89c8-5103763a083c"
      },
      "execution_count": null,
      "outputs": [
        {
          "output_type": "stream",
          "name": "stdout",
          "text": [
            "Hello World\n"
          ]
        }
      ]
    },
    {
      "cell_type": "markdown",
      "source": [
        "Task P8.2\n"
      ],
      "metadata": {
        "id": "VuzqtaaeTREe"
      }
    },
    {
      "cell_type": "code",
      "source": [
        "print (my_string[33:40], my_string[5:10])"
      ],
      "metadata": {
        "colab": {
          "base_uri": "https://localhost:8080/"
        },
        "id": "pHdHzLHQTTQk",
        "outputId": "6ca0862b-c625-49f5-cc01-36b2219e308e"
      },
      "execution_count": null,
      "outputs": [
        {
          "output_type": "stream",
          "name": "stdout",
          "text": [
            "Wallace World\n"
          ]
        }
      ]
    },
    {
      "cell_type": "markdown",
      "source": [
        "TASK 8.3 Rosalind #2 code"
      ],
      "metadata": {
        "id": "DaK1Xjw_UDmB"
      }
    },
    {
      "cell_type": "code",
      "source": [
        "# Sample Dataset\n",
        "my_string = \"HumptyDumptysatonawallHumptyDumptyhadagreatfallAlltheKingshorsesandalltheKingsmenCouldntputHumptyDumptyinhisplaceagain\"\n",
        "a = int(input (\"Enter value for a: \"))\n",
        "b = int(input (\"Enter value for b: \"))\n",
        "c = int(input (\"Enter value for c: \"))\n",
        "d = int(input (\"Enter value for d: \"))\n",
        "print (my_string [a:(b+1)], my_string [c:(d+1)])"
      ],
      "metadata": {
        "colab": {
          "base_uri": "https://localhost:8080/"
        },
        "id": "87wNVZOAUFUa",
        "outputId": "0514368b-df69-444f-c505-50a654a648cd"
      },
      "execution_count": null,
      "outputs": [
        {
          "output_type": "stream",
          "name": "stdout",
          "text": [
            "Enter value for a: 22\n",
            "Enter value for b: 27\n",
            "Enter value for c: 97\n",
            "Enter value for d: 102\n",
            "Humpty Dumpty\n"
          ]
        }
      ]
    },
    {
      "cell_type": "code",
      "source": [
        "my_string = \"AvcBsNJSX3jJqgmiLjNinoxeHSc47dxHM7mqYxVxnWlsanexydUKTsojSkn7zlKo5hgCzbYsppRoUwXcd8BCjwf00lyVqWvR0E9aVmwrLVhMEVlJKa9jq5fqcj1qk03vRTxfbq4unbjSvEWnh89tiUoYTFWWDFMdpaestivusMA479k9cimuQ4H1v1M26HJEDy9kOH\"\n",
        "a = int(input (\"Enter value for a: \"))\n",
        "b = int(input (\"Enter value for b: \"))\n",
        "c = int(input (\"Enter value for c: \"))\n",
        "d = int(input (\"Enter value for d: \"))\n",
        "print (my_string [a:(b+1)], my_string [c:(d+1)])"
      ],
      "metadata": {
        "colab": {
          "base_uri": "https://localhost:8080/"
        },
        "id": "Md6A9a8xXVQ0",
        "outputId": "79a37d9b-fc1c-4ad9-ed08-6b51d83549b6"
      },
      "execution_count": null,
      "outputs": [
        {
          "output_type": "stream",
          "name": "stdout",
          "text": [
            "Enter value for a: 18\n",
            "Enter value for b: 22\n",
            "Enter value for c: 161\n",
            "Enter value for d: 168\n",
            "Ninox aestivus\n"
          ]
        }
      ]
    },
    {
      "cell_type": "markdown",
      "source": [
        "# P9 if and else"
      ],
      "metadata": {
        "id": "cyvPCOVkaSuA"
      }
    },
    {
      "cell_type": "markdown",
      "source": [
        "TASK P9.1"
      ],
      "metadata": {
        "id": "iJbzyzZ5aXuF"
      }
    },
    {
      "cell_type": "code",
      "source": [
        "a=5\n",
        "b=5\n",
        "\n",
        "if a!=b:\n",
        "  print (a-b)\n",
        "\n",
        "else:\n",
        "  print (a+b)"
      ],
      "metadata": {
        "colab": {
          "base_uri": "https://localhost:8080/"
        },
        "id": "ekS1Pk39ac63",
        "outputId": "5ea206f0-12b1-45d4-faf1-44426166a592"
      },
      "execution_count": null,
      "outputs": [
        {
          "output_type": "stream",
          "name": "stdout",
          "text": [
            "10\n"
          ]
        }
      ]
    },
    {
      "cell_type": "markdown",
      "source": [
        "# P10 while Loops"
      ],
      "metadata": {
        "id": "eHj_gjmDbN9b"
      }
    },
    {
      "cell_type": "markdown",
      "source": [
        "TASK 10.1"
      ],
      "metadata": {
        "id": "8sZPP14IbUeF"
      }
    },
    {
      "cell_type": "code",
      "source": [
        "#initiate a counter\n",
        "a = 1\n",
        "#print \"Counting!\" while a<=3\n",
        "while a <= 3:\n",
        "\n",
        "  print (\"Counting!\" * a)\n",
        "  a += 1"
      ],
      "metadata": {
        "colab": {
          "base_uri": "https://localhost:8080/"
        },
        "id": "Dc3Cvv2WbWUi",
        "outputId": "65f1e6df-6ad6-4cbf-a324-a53b00c0e51f"
      },
      "execution_count": 1,
      "outputs": [
        {
          "output_type": "stream",
          "name": "stdout",
          "text": [
            "Counting!\n",
            "Counting!Counting!\n",
            "Counting!Counting!Counting!\n"
          ]
        }
      ]
    },
    {
      "cell_type": "markdown",
      "source": [
        "# P11 for Loops"
      ],
      "metadata": {
        "id": "evD1fxnAdYWb"
      }
    },
    {
      "cell_type": "markdown",
      "source": [
        "TASK P11.1"
      ],
      "metadata": {
        "id": "-iHBhbdqddEb"
      }
    },
    {
      "cell_type": "code",
      "source": [
        "names = [\"Alice\", \"Bob\", \"Charley\"] #create list\n",
        "\n",
        "for name in names:\n",
        "  print (\"Hello\", name)"
      ],
      "metadata": {
        "colab": {
          "base_uri": "https://localhost:8080/"
        },
        "id": "bjBw2V2ldeob",
        "outputId": "1b069673-32fb-498f-9298-ab6ebd7e3074"
      },
      "execution_count": 2,
      "outputs": [
        {
          "output_type": "stream",
          "name": "stdout",
          "text": [
            "Hello Alice\n",
            "Hello Bob\n",
            "Hello Charley\n"
          ]
        }
      ]
    },
    {
      "cell_type": "markdown",
      "source": [
        "# P12 for loops over a range() of numbers"
      ],
      "metadata": {
        "id": "dmYxCYgvhAaa"
      }
    },
    {
      "cell_type": "code",
      "source": [
        "TASK 12.1"
      ],
      "metadata": {
        "id": "i5HNNDqxhH3M"
      },
      "execution_count": null,
      "outputs": []
    },
    {
      "cell_type": "code",
      "source": [
        "# Create a variable to define the number of iterations\n",
        "iterations = 10\n",
        "\n",
        "# Print the current item's value each time through the loop\n",
        "for number in range(iterations):\n",
        "  print (number)"
      ],
      "metadata": {
        "colab": {
          "base_uri": "https://localhost:8080/"
        },
        "id": "y1Bc7gx3hJRy",
        "outputId": "1f6cf1cb-c3fb-4b03-9a46-dce048aea94d"
      },
      "execution_count": 3,
      "outputs": [
        {
          "output_type": "stream",
          "name": "stdout",
          "text": [
            "0\n",
            "1\n",
            "2\n",
            "3\n",
            "4\n",
            "5\n",
            "6\n",
            "7\n",
            "8\n",
            "9\n"
          ]
        }
      ]
    },
    {
      "cell_type": "markdown",
      "source": [
        "TASK P12.2"
      ],
      "metadata": {
        "id": "RFRBZ--8hpQb"
      }
    },
    {
      "cell_type": "code",
      "source": [
        "for number in range(9,28,3):    #range (start value, stop value, step size)\n",
        "  print (number)\n"
      ],
      "metadata": {
        "colab": {
          "base_uri": "https://localhost:8080/"
        },
        "id": "TOJZJVNOhwUN",
        "outputId": "701f2d67-3e13-492a-a65c-839c01c8b93e"
      },
      "execution_count": 5,
      "outputs": [
        {
          "output_type": "stream",
          "name": "stdout",
          "text": [
            "9\n",
            "12\n",
            "15\n",
            "18\n",
            "21\n",
            "24\n",
            "27\n"
          ]
        }
      ]
    },
    {
      "cell_type": "markdown",
      "source": [
        "TASK P12.3 Rosalind #3"
      ],
      "metadata": {
        "id": "c8TzHt8qicV5"
      }
    },
    {
      "cell_type": "code",
      "source": [
        "a = int (input (\"Enter value for a: \"))\n",
        "b = int (input (\"Enter value for b: \"))\n",
        "\n",
        "total_sum = 0 # Initialize a variable to store the sum\n",
        "\n",
        "if a % 2 == 1:\n",
        "  for number in range(a,b+1,2):\n",
        "    total_sum += number # Add each number to the total sum\n",
        "\n",
        "else:\n",
        "  for number in range(a+1,b+1,2):\n",
        "    total_sum += number # Add each number to the total sum\n",
        "\n",
        "print (\"The sum of the integers in the range is:\", total_sum) # Print the total sum"
      ],
      "metadata": {
        "colab": {
          "base_uri": "https://localhost:8080/"
        },
        "id": "a_q12-f_iezt",
        "outputId": "7e149c55-1d05-4717-d084-d63f5b5e16fb"
      },
      "execution_count": 13,
      "outputs": [
        {
          "output_type": "stream",
          "name": "stdout",
          "text": [
            "Enter value for a: 4285\n",
            "Enter value for b: 8546\n",
            "The sum of the integers in the range is: 13670365\n"
          ]
        }
      ]
    }
  ]
}