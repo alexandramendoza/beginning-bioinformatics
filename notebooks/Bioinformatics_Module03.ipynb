{
  "nbformat": 4,
  "nbformat_minor": 0,
  "metadata": {
    "colab": {
      "provenance": [],
      "authorship_tag": "ABX9TyOHPPh9wKLvFi153z9cR20h",
      "include_colab_link": true
    },
    "kernelspec": {
      "name": "python3",
      "display_name": "Python 3"
    },
    "language_info": {
      "name": "python"
    }
  },
  "cells": [
    {
      "cell_type": "markdown",
      "metadata": {
        "id": "view-in-github",
        "colab_type": "text"
      },
      "source": [
        "<a href=\"https://colab.research.google.com/github/alexandramendoza/beginning-bioinformatics/blob/main/notebooks/Bioinformatics_Module03.ipynb\" target=\"_parent\"><img src=\"https://colab.research.google.com/assets/colab-badge.svg\" alt=\"Open In Colab\"/></a>"
      ]
    },
    {
      "cell_type": "code",
      "execution_count": null,
      "metadata": {
        "id": "xuWhMhBtEOUc"
      },
      "outputs": [],
      "source": []
    },
    {
      "cell_type": "markdown",
      "source": [
        "Rosalind #1\n"
      ],
      "metadata": {
        "id": "zx4zzEP8NMln"
      }
    },
    {
      "cell_type": "code",
      "source": [
        "a = 828\n",
        "b = 891\n",
        "c = a**2 + b**2\n",
        "\n",
        "print (c)"
      ],
      "metadata": {
        "colab": {
          "base_uri": "https://localhost:8080/"
        },
        "id": "JrXmWtbhGKuE",
        "outputId": "cf454ead-5d4f-49ef-b933-fd1acbde174f"
      },
      "execution_count": 3,
      "outputs": [
        {
          "output_type": "stream",
          "name": "stdout",
          "text": [
            "1479465\n"
          ]
        }
      ]
    },
    {
      "cell_type": "markdown",
      "source": [
        "Task P6.2\n",
        "\n"
      ],
      "metadata": {
        "id": "CfILfueoN5ZT"
      }
    },
    {
      "cell_type": "code",
      "source": [
        "a = int(input (\"Enter value for a: \"))\n",
        "b = int(input (\"Enter value for b: \"))\n",
        "c = a**2 + b**2\n",
        "print(\"The square of the hypotenuse is \",c)"
      ],
      "metadata": {
        "colab": {
          "base_uri": "https://localhost:8080/"
        },
        "id": "WNjhnyqAN-Cq",
        "outputId": "f88c687b-0476-411e-8d9a-a851a272d527"
      },
      "execution_count": 8,
      "outputs": [
        {
          "output_type": "stream",
          "name": "stdout",
          "text": [
            "Enter value for a: 3\n",
            "Enter value for b: 5\n",
            "The square of the hypotenuse is  34\n",
            "Enter value for a: 828\n",
            "Enter value for b: 891\n",
            "The square of the hypotenuse is  1479465\n"
          ]
        }
      ]
    },
    {
      "cell_type": "markdown",
      "source": [
        "Task P7.1\n"
      ],
      "metadata": {
        "id": "7Om7mhziQ0bS"
      }
    },
    {
      "cell_type": "code",
      "source": [
        "# Create a list with 3 elements and then print them\n",
        "\n",
        "my_list = [\"Hello\", \"World\", \"Charles Darwin\"]\n",
        "print(my_list[1])"
      ],
      "metadata": {
        "colab": {
          "base_uri": "https://localhost:8080/"
        },
        "id": "fPyclgTCQ3gY",
        "outputId": "53282d67-45b7-42e9-8513-0668fa5d4f20"
      },
      "execution_count": 9,
      "outputs": [
        {
          "output_type": "stream",
          "name": "stdout",
          "text": [
            "World\n"
          ]
        }
      ]
    },
    {
      "cell_type": "markdown",
      "source": [
        "Task P7.2"
      ],
      "metadata": {
        "id": "tkbY-iX6RYod"
      }
    },
    {
      "cell_type": "code",
      "source": [
        "# Substitute the item at index 2 in the list\n",
        "my_list[2] = \"Alfred R. Wallace\"\n",
        "print (my_list)"
      ],
      "metadata": {
        "colab": {
          "base_uri": "https://localhost:8080/"
        },
        "id": "vszkjQoFRahx",
        "outputId": "ffb78379-62b5-4bc1-b1ad-d80de3eaaa09"
      },
      "execution_count": 10,
      "outputs": [
        {
          "output_type": "stream",
          "name": "stdout",
          "text": [
            "['Hello', 'World', 'Alfred R. Wallace']\n"
          ]
        }
      ]
    },
    {
      "cell_type": "markdown",
      "source": [
        "Task P7.3"
      ],
      "metadata": {
        "id": "U8Lm1bM2RuyX"
      }
    },
    {
      "cell_type": "code",
      "source": [
        "# Insert an item at a specific index in the list\n",
        "my_list.insert(0, \"New Item\")\n",
        "print (my_list)"
      ],
      "metadata": {
        "colab": {
          "base_uri": "https://localhost:8080/"
        },
        "id": "hwHybP1VRwu1",
        "outputId": "9c9540d8-d58d-4211-9064-e66db93f8374"
      },
      "execution_count": 12,
      "outputs": [
        {
          "output_type": "stream",
          "name": "stdout",
          "text": [
            "['New Item', 'Hello', 'World', 'Alfred R. Wallace', 'Charles Darwin']\n"
          ]
        }
      ]
    },
    {
      "cell_type": "markdown",
      "source": [
        "Task P8.1"
      ],
      "metadata": {
        "id": "sl9vz7_KSjg5"
      }
    },
    {
      "cell_type": "code",
      "source": [
        "# Slice\n",
        "print (my_list[2:4])\n"
      ],
      "metadata": {
        "colab": {
          "base_uri": "https://localhost:8080/"
        },
        "id": "jzZjHlSxSmKp",
        "outputId": "437b87f4-4547-44f3-ef49-68eeb04bf434"
      },
      "execution_count": 13,
      "outputs": [
        {
          "output_type": "stream",
          "name": "stdout",
          "text": [
            "['World', 'Alfred R. Wallace']\n"
          ]
        }
      ]
    },
    {
      "cell_type": "code",
      "source": [
        "my_string = \"HelloWorldCharlesDarwinAlfred R. Wallace\"\n",
        "print (my_string[0:5], my_string[5:10])"
      ],
      "metadata": {
        "colab": {
          "base_uri": "https://localhost:8080/"
        },
        "id": "oNwRhM2rS4-1",
        "outputId": "e92902e8-de31-4d10-89c8-5103763a083c"
      },
      "execution_count": 14,
      "outputs": [
        {
          "output_type": "stream",
          "name": "stdout",
          "text": [
            "Hello World\n"
          ]
        }
      ]
    },
    {
      "cell_type": "markdown",
      "source": [
        "Task P8.2\n"
      ],
      "metadata": {
        "id": "VuzqtaaeTREe"
      }
    },
    {
      "cell_type": "code",
      "source": [
        "print (my_string[33:40], my_string[5:10])"
      ],
      "metadata": {
        "colab": {
          "base_uri": "https://localhost:8080/"
        },
        "id": "pHdHzLHQTTQk",
        "outputId": "6ca0862b-c625-49f5-cc01-36b2219e308e"
      },
      "execution_count": 17,
      "outputs": [
        {
          "output_type": "stream",
          "name": "stdout",
          "text": [
            "Wallace World\n"
          ]
        }
      ]
    },
    {
      "cell_type": "markdown",
      "source": [
        "TASK 8.3 Rosalind #2 code"
      ],
      "metadata": {
        "id": "DaK1Xjw_UDmB"
      }
    },
    {
      "cell_type": "code",
      "source": [
        "# Sample Dataset\n",
        "my_string = \"HumptyDumptysatonawallHumptyDumptyhadagreatfallAlltheKingshorsesandalltheKingsmenCouldntputHumptyDumptyinhisplaceagain\"\n",
        "a = int(input (\"Enter value for a: \"))\n",
        "b = int(input (\"Enter value for b: \"))\n",
        "c = int(input (\"Enter value for c: \"))\n",
        "d = int(input (\"Enter value for d: \"))\n",
        "print (my_string [a:(b+1)], my_string [c:(d+1)])"
      ],
      "metadata": {
        "colab": {
          "base_uri": "https://localhost:8080/"
        },
        "id": "87wNVZOAUFUa",
        "outputId": "0514368b-df69-444f-c505-50a654a648cd"
      },
      "execution_count": 19,
      "outputs": [
        {
          "output_type": "stream",
          "name": "stdout",
          "text": [
            "Enter value for a: 22\n",
            "Enter value for b: 27\n",
            "Enter value for c: 97\n",
            "Enter value for d: 102\n",
            "Humpty Dumpty\n"
          ]
        }
      ]
    },
    {
      "cell_type": "code",
      "source": [
        "my_string = \"AvcBsNJSX3jJqgmiLjNinoxeHSc47dxHM7mqYxVxnWlsanexydUKTsojSkn7zlKo5hgCzbYsppRoUwXcd8BCjwf00lyVqWvR0E9aVmwrLVhMEVlJKa9jq5fqcj1qk03vRTxfbq4unbjSvEWnh89tiUoYTFWWDFMdpaestivusMA479k9cimuQ4H1v1M26HJEDy9kOH\"\n",
        "a = int(input (\"Enter value for a: \"))\n",
        "b = int(input (\"Enter value for b: \"))\n",
        "c = int(input (\"Enter value for c: \"))\n",
        "d = int(input (\"Enter value for d: \"))\n",
        "print (my_string [a:(b+1)], my_string [c:(d+1)])"
      ],
      "metadata": {
        "colab": {
          "base_uri": "https://localhost:8080/"
        },
        "id": "Md6A9a8xXVQ0",
        "outputId": "79a37d9b-fc1c-4ad9-ed08-6b51d83549b6"
      },
      "execution_count": 21,
      "outputs": [
        {
          "output_type": "stream",
          "name": "stdout",
          "text": [
            "Enter value for a: 18\n",
            "Enter value for b: 22\n",
            "Enter value for c: 161\n",
            "Enter value for d: 168\n",
            "Ninox aestivus\n"
          ]
        }
      ]
    }
  ]
}