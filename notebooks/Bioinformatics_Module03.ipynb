{
  "nbformat": 4,
  "nbformat_minor": 0,
  "metadata": {
    "colab": {
      "provenance": [],
      "authorship_tag": "ABX9TyNXD8+zD21yeWR450A7WwsH",
      "include_colab_link": true
    },
    "kernelspec": {
      "name": "python3",
      "display_name": "Python 3"
    },
    "language_info": {
      "name": "python"
    }
  },
  "cells": [
    {
      "cell_type": "markdown",
      "metadata": {
        "id": "view-in-github",
        "colab_type": "text"
      },
      "source": [
        "<a href=\"https://colab.research.google.com/github/alexandramendoza/beginning-bioinformatics/blob/main/notebooks/Bioinformatics_Module03.ipynb\" target=\"_parent\"><img src=\"https://colab.research.google.com/assets/colab-badge.svg\" alt=\"Open In Colab\"/></a>"
      ]
    },
    {
      "cell_type": "code",
      "execution_count": null,
      "metadata": {
        "id": "xuWhMhBtEOUc"
      },
      "outputs": [],
      "source": []
    },
    {
      "cell_type": "markdown",
      "source": [
        "Rosalind #1\n"
      ],
      "metadata": {
        "id": "zx4zzEP8NMln"
      }
    },
    {
      "cell_type": "code",
      "source": [
        "a = 828\n",
        "b = 891\n",
        "c = a**2 + b**2\n",
        "\n",
        "print (c)"
      ],
      "metadata": {
        "colab": {
          "base_uri": "https://localhost:8080/"
        },
        "id": "JrXmWtbhGKuE",
        "outputId": "cf454ead-5d4f-49ef-b933-fd1acbde174f"
      },
      "execution_count": null,
      "outputs": [
        {
          "output_type": "stream",
          "name": "stdout",
          "text": [
            "1479465\n"
          ]
        }
      ]
    },
    {
      "cell_type": "markdown",
      "source": [
        "Task P6.2\n",
        "\n"
      ],
      "metadata": {
        "id": "CfILfueoN5ZT"
      }
    },
    {
      "cell_type": "code",
      "source": [
        "a = int(input (\"Enter value for a: \"))\n",
        "b = int(input (\"Enter value for b: \"))\n",
        "c = a**2 + b**2\n",
        "print(\"The square of the hypotenuse is \",c)"
      ],
      "metadata": {
        "colab": {
          "base_uri": "https://localhost:8080/"
        },
        "id": "WNjhnyqAN-Cq",
        "outputId": "f88c687b-0476-411e-8d9a-a851a272d527"
      },
      "execution_count": null,
      "outputs": [
        {
          "output_type": "stream",
          "name": "stdout",
          "text": [
            "Enter value for a: 3\n",
            "Enter value for b: 5\n",
            "The square of the hypotenuse is  34\n",
            "Enter value for a: 828\n",
            "Enter value for b: 891\n",
            "The square of the hypotenuse is  1479465\n"
          ]
        }
      ]
    },
    {
      "cell_type": "markdown",
      "source": [
        "Task P7.1\n"
      ],
      "metadata": {
        "id": "7Om7mhziQ0bS"
      }
    },
    {
      "cell_type": "code",
      "source": [
        "# Create a list with 3 elements and then print them\n",
        "\n",
        "my_list = [\"Hello\", \"World\", \"Charles Darwin\"]\n",
        "print(my_list[1])"
      ],
      "metadata": {
        "colab": {
          "base_uri": "https://localhost:8080/"
        },
        "id": "fPyclgTCQ3gY",
        "outputId": "53282d67-45b7-42e9-8513-0668fa5d4f20"
      },
      "execution_count": null,
      "outputs": [
        {
          "output_type": "stream",
          "name": "stdout",
          "text": [
            "World\n"
          ]
        }
      ]
    },
    {
      "cell_type": "markdown",
      "source": [
        "Task P7.2"
      ],
      "metadata": {
        "id": "tkbY-iX6RYod"
      }
    },
    {
      "cell_type": "code",
      "source": [
        "# Substitute the item at index 2 in the list\n",
        "my_list[2] = \"Alfred R. Wallace\"\n",
        "print (my_list)"
      ],
      "metadata": {
        "colab": {
          "base_uri": "https://localhost:8080/"
        },
        "id": "vszkjQoFRahx",
        "outputId": "ffb78379-62b5-4bc1-b1ad-d80de3eaaa09"
      },
      "execution_count": null,
      "outputs": [
        {
          "output_type": "stream",
          "name": "stdout",
          "text": [
            "['Hello', 'World', 'Alfred R. Wallace']\n"
          ]
        }
      ]
    },
    {
      "cell_type": "markdown",
      "source": [
        "Task P7.3"
      ],
      "metadata": {
        "id": "U8Lm1bM2RuyX"
      }
    },
    {
      "cell_type": "code",
      "source": [
        "# Insert an item at a specific index in the list\n",
        "my_list.insert(0, \"New Item\")\n",
        "print (my_list)"
      ],
      "metadata": {
        "colab": {
          "base_uri": "https://localhost:8080/"
        },
        "id": "hwHybP1VRwu1",
        "outputId": "9c9540d8-d58d-4211-9064-e66db93f8374"
      },
      "execution_count": null,
      "outputs": [
        {
          "output_type": "stream",
          "name": "stdout",
          "text": [
            "['New Item', 'Hello', 'World', 'Alfred R. Wallace', 'Charles Darwin']\n"
          ]
        }
      ]
    },
    {
      "cell_type": "markdown",
      "source": [
        "Task P8.1"
      ],
      "metadata": {
        "id": "sl9vz7_KSjg5"
      }
    },
    {
      "cell_type": "code",
      "source": [
        "# Slice\n",
        "print (my_list[2:4])\n"
      ],
      "metadata": {
        "colab": {
          "base_uri": "https://localhost:8080/"
        },
        "id": "jzZjHlSxSmKp",
        "outputId": "437b87f4-4547-44f3-ef49-68eeb04bf434"
      },
      "execution_count": null,
      "outputs": [
        {
          "output_type": "stream",
          "name": "stdout",
          "text": [
            "['World', 'Alfred R. Wallace']\n"
          ]
        }
      ]
    },
    {
      "cell_type": "code",
      "source": [
        "my_string = \"HelloWorldCharlesDarwinAlfred R. Wallace\"\n",
        "print (my_string[0:5], my_string[5:10])"
      ],
      "metadata": {
        "colab": {
          "base_uri": "https://localhost:8080/"
        },
        "id": "oNwRhM2rS4-1",
        "outputId": "e92902e8-de31-4d10-89c8-5103763a083c"
      },
      "execution_count": null,
      "outputs": [
        {
          "output_type": "stream",
          "name": "stdout",
          "text": [
            "Hello World\n"
          ]
        }
      ]
    },
    {
      "cell_type": "markdown",
      "source": [
        "Task P8.2\n"
      ],
      "metadata": {
        "id": "VuzqtaaeTREe"
      }
    },
    {
      "cell_type": "code",
      "source": [
        "print (my_string[33:40], my_string[5:10])"
      ],
      "metadata": {
        "colab": {
          "base_uri": "https://localhost:8080/"
        },
        "id": "pHdHzLHQTTQk",
        "outputId": "6ca0862b-c625-49f5-cc01-36b2219e308e"
      },
      "execution_count": null,
      "outputs": [
        {
          "output_type": "stream",
          "name": "stdout",
          "text": [
            "Wallace World\n"
          ]
        }
      ]
    },
    {
      "cell_type": "markdown",
      "source": [
        "TASK 8.3 Rosalind #2 code"
      ],
      "metadata": {
        "id": "DaK1Xjw_UDmB"
      }
    },
    {
      "cell_type": "code",
      "source": [
        "# Sample Dataset\n",
        "my_string = \"HumptyDumptysatonawallHumptyDumptyhadagreatfallAlltheKingshorsesandalltheKingsmenCouldntputHumptyDumptyinhisplaceagain\"\n",
        "a = int(input (\"Enter value for a: \"))\n",
        "b = int(input (\"Enter value for b: \"))\n",
        "c = int(input (\"Enter value for c: \"))\n",
        "d = int(input (\"Enter value for d: \"))\n",
        "print (my_string [a:(b+1)], my_string [c:(d+1)])"
      ],
      "metadata": {
        "colab": {
          "base_uri": "https://localhost:8080/"
        },
        "id": "87wNVZOAUFUa",
        "outputId": "0514368b-df69-444f-c505-50a654a648cd"
      },
      "execution_count": null,
      "outputs": [
        {
          "output_type": "stream",
          "name": "stdout",
          "text": [
            "Enter value for a: 22\n",
            "Enter value for b: 27\n",
            "Enter value for c: 97\n",
            "Enter value for d: 102\n",
            "Humpty Dumpty\n"
          ]
        }
      ]
    },
    {
      "cell_type": "code",
      "source": [
        "my_string = \"AvcBsNJSX3jJqgmiLjNinoxeHSc47dxHM7mqYxVxnWlsanexydUKTsojSkn7zlKo5hgCzbYsppRoUwXcd8BCjwf00lyVqWvR0E9aVmwrLVhMEVlJKa9jq5fqcj1qk03vRTxfbq4unbjSvEWnh89tiUoYTFWWDFMdpaestivusMA479k9cimuQ4H1v1M26HJEDy9kOH\"\n",
        "a = int(input (\"Enter value for a: \"))\n",
        "b = int(input (\"Enter value for b: \"))\n",
        "c = int(input (\"Enter value for c: \"))\n",
        "d = int(input (\"Enter value for d: \"))\n",
        "print (my_string [a:(b+1)], my_string [c:(d+1)])"
      ],
      "metadata": {
        "colab": {
          "base_uri": "https://localhost:8080/"
        },
        "id": "Md6A9a8xXVQ0",
        "outputId": "79a37d9b-fc1c-4ad9-ed08-6b51d83549b6"
      },
      "execution_count": null,
      "outputs": [
        {
          "output_type": "stream",
          "name": "stdout",
          "text": [
            "Enter value for a: 18\n",
            "Enter value for b: 22\n",
            "Enter value for c: 161\n",
            "Enter value for d: 168\n",
            "Ninox aestivus\n"
          ]
        }
      ]
    },
    {
      "cell_type": "markdown",
      "source": [
        "# P9 if and else"
      ],
      "metadata": {
        "id": "cyvPCOVkaSuA"
      }
    },
    {
      "cell_type": "markdown",
      "source": [
        "TASK P9.1"
      ],
      "metadata": {
        "id": "iJbzyzZ5aXuF"
      }
    },
    {
      "cell_type": "code",
      "source": [
        "a=5\n",
        "b=5\n",
        "\n",
        "if a!=b:\n",
        "  print (a-b)\n",
        "\n",
        "else:\n",
        "  print (a+b)"
      ],
      "metadata": {
        "colab": {
          "base_uri": "https://localhost:8080/"
        },
        "id": "ekS1Pk39ac63",
        "outputId": "5ea206f0-12b1-45d4-faf1-44426166a592"
      },
      "execution_count": null,
      "outputs": [
        {
          "output_type": "stream",
          "name": "stdout",
          "text": [
            "10\n"
          ]
        }
      ]
    },
    {
      "cell_type": "markdown",
      "source": [
        "# P10 while Loops"
      ],
      "metadata": {
        "id": "eHj_gjmDbN9b"
      }
    },
    {
      "cell_type": "markdown",
      "source": [
        "TASK 10.1"
      ],
      "metadata": {
        "id": "8sZPP14IbUeF"
      }
    },
    {
      "cell_type": "code",
      "source": [
        "#initiate a counter\n",
        "a = 1\n",
        "#print \"Counting!\" while a<=3\n",
        "while a <= 3:\n",
        "\n",
        "  print (\"Counting!\" * a)\n",
        "  a += 1"
      ],
      "metadata": {
        "colab": {
          "base_uri": "https://localhost:8080/"
        },
        "id": "Dc3Cvv2WbWUi",
        "outputId": "65f1e6df-6ad6-4cbf-a324-a53b00c0e51f"
      },
      "execution_count": null,
      "outputs": [
        {
          "output_type": "stream",
          "name": "stdout",
          "text": [
            "Counting!\n",
            "Counting!Counting!\n",
            "Counting!Counting!Counting!\n"
          ]
        }
      ]
    },
    {
      "cell_type": "markdown",
      "source": [
        "# P11 for Loops"
      ],
      "metadata": {
        "id": "evD1fxnAdYWb"
      }
    },
    {
      "cell_type": "markdown",
      "source": [
        "TASK P11.1"
      ],
      "metadata": {
        "id": "-iHBhbdqddEb"
      }
    },
    {
      "cell_type": "code",
      "source": [
        "names = [\"Alice\", \"Bob\", \"Charley\"] #create list\n",
        "\n",
        "for name in names:\n",
        "  print (\"Hello\", name)"
      ],
      "metadata": {
        "colab": {
          "base_uri": "https://localhost:8080/"
        },
        "id": "bjBw2V2ldeob",
        "outputId": "1b069673-32fb-498f-9298-ab6ebd7e3074"
      },
      "execution_count": null,
      "outputs": [
        {
          "output_type": "stream",
          "name": "stdout",
          "text": [
            "Hello Alice\n",
            "Hello Bob\n",
            "Hello Charley\n"
          ]
        }
      ]
    },
    {
      "cell_type": "markdown",
      "source": [
        "# P12 for loops over a range() of numbers"
      ],
      "metadata": {
        "id": "dmYxCYgvhAaa"
      }
    },
    {
      "cell_type": "code",
      "source": [
        "TASK 12.1"
      ],
      "metadata": {
        "id": "i5HNNDqxhH3M"
      },
      "execution_count": null,
      "outputs": []
    },
    {
      "cell_type": "code",
      "source": [
        "# Create a variable to define the number of iterations\n",
        "iterations = 10\n",
        "\n",
        "# Print the current item's value each time through the loop\n",
        "for number in range(iterations):\n",
        "  print (number)"
      ],
      "metadata": {
        "colab": {
          "base_uri": "https://localhost:8080/"
        },
        "id": "y1Bc7gx3hJRy",
        "outputId": "1f6cf1cb-c3fb-4b03-9a46-dce048aea94d"
      },
      "execution_count": null,
      "outputs": [
        {
          "output_type": "stream",
          "name": "stdout",
          "text": [
            "0\n",
            "1\n",
            "2\n",
            "3\n",
            "4\n",
            "5\n",
            "6\n",
            "7\n",
            "8\n",
            "9\n"
          ]
        }
      ]
    },
    {
      "cell_type": "markdown",
      "source": [
        "TASK P12.2"
      ],
      "metadata": {
        "id": "RFRBZ--8hpQb"
      }
    },
    {
      "cell_type": "code",
      "source": [
        "for number in range(9,28,3):    #range (start value, stop value, step size)\n",
        "  print (number)\n"
      ],
      "metadata": {
        "colab": {
          "base_uri": "https://localhost:8080/"
        },
        "id": "TOJZJVNOhwUN",
        "outputId": "701f2d67-3e13-492a-a65c-839c01c8b93e"
      },
      "execution_count": null,
      "outputs": [
        {
          "output_type": "stream",
          "name": "stdout",
          "text": [
            "9\n",
            "12\n",
            "15\n",
            "18\n",
            "21\n",
            "24\n",
            "27\n"
          ]
        }
      ]
    },
    {
      "cell_type": "markdown",
      "source": [
        "TASK P12.3 Rosalind #3"
      ],
      "metadata": {
        "id": "c8TzHt8qicV5"
      }
    },
    {
      "cell_type": "code",
      "source": [
        "a = int (input (\"Enter value for a: \"))\n",
        "b = int (input (\"Enter value for b: \"))\n",
        "\n",
        "total_sum = 0 # Initialize a variable to store the sum\n",
        "\n",
        "if a % 2 == 1:\n",
        "  for number in range(a,b+1,2):\n",
        "    total_sum += number # Add each number to the total sum\n",
        "\n",
        "else:\n",
        "  for number in range(a+1,b+1,2):\n",
        "    total_sum += number # Add each number to the total sum\n",
        "\n",
        "print (\"The sum of the integers in the range is:\", total_sum) # Print the total sum"
      ],
      "metadata": {
        "colab": {
          "base_uri": "https://localhost:8080/"
        },
        "id": "a_q12-f_iezt",
        "outputId": "7e149c55-1d05-4717-d084-d63f5b5e16fb"
      },
      "execution_count": null,
      "outputs": [
        {
          "output_type": "stream",
          "name": "stdout",
          "text": [
            "Enter value for a: 4285\n",
            "Enter value for b: 8546\n",
            "The sum of the integers in the range is: 13670365\n"
          ]
        }
      ]
    },
    {
      "cell_type": "markdown",
      "source": [
        "# P13 File I/O with open (\"filename\", \"mode\") as filehandle:"
      ],
      "metadata": {
        "id": "w62aZ1VdpXpb"
      }
    },
    {
      "cell_type": "markdown",
      "source": [
        "TASK P13.1"
      ],
      "metadata": {
        "id": "vW76yaPtpsK9"
      }
    },
    {
      "cell_type": "code",
      "source": [
        "with open (\"practice.txt\", \"r\") as data:\n",
        "\n",
        "  print(data.read())"
      ],
      "metadata": {
        "colab": {
          "base_uri": "https://localhost:8080/"
        },
        "id": "R8J5EEuspwnF",
        "outputId": "c8bba9d8-9549-4392-c1c2-33efeb079a2a"
      },
      "execution_count": null,
      "outputs": [
        {
          "output_type": "stream",
          "name": "stdout",
          "text": [
            "Bravely bold Sir Robin rode forth from Camelot\n",
            "Yes, brave Sir Robin turned about\n",
            "He was not afraid to die, O brave Sir Robin\n",
            "And gallantly he chickened out\n",
            "He was not at all afraid to be killed in nasty ways\n",
            "Bravely talking to his feet\n",
            "Brave, brave, brave, brave Sir Robin\n",
            "He beat a very brave retreat\n"
          ]
        }
      ]
    },
    {
      "cell_type": "code",
      "source": [],
      "metadata": {
        "id": "LoRnpgc0tYGZ"
      },
      "execution_count": null,
      "outputs": []
    },
    {
      "cell_type": "code",
      "source": [
        "with open(\"practice.txt\", \"r\") as data:\n",
        "\n",
        "  print (data.readlines())"
      ],
      "metadata": {
        "colab": {
          "base_uri": "https://localhost:8080/"
        },
        "id": "R4H_8fG7sPdM",
        "outputId": "12e3811e-add8-40ff-a03f-e5bc5e4b1e4e"
      },
      "execution_count": null,
      "outputs": [
        {
          "output_type": "stream",
          "name": "stdout",
          "text": [
            "['Bravely bold Sir Robin rode forth from Camelot\\n', 'Yes, brave Sir Robin turned about\\n', 'He was not afraid to die, O brave Sir Robin\\n', 'And gallantly he chickened out\\n', 'He was not at all afraid to be killed in nasty ways\\n', 'Bravely talking to his feet\\n', 'Brave, brave, brave, brave Sir Robin\\n', 'He beat a very brave retreat']\n"
          ]
        }
      ]
    },
    {
      "cell_type": "markdown",
      "source": [
        "# P14 Store the content, close the file and join() the list"
      ],
      "metadata": {
        "id": "Q1gZvSu1uxCZ"
      }
    },
    {
      "cell_type": "markdown",
      "source": [
        "TASK P14.1"
      ],
      "metadata": {
        "id": "60wMNoiEulsX"
      }
    },
    {
      "cell_type": "code",
      "source": [
        "with open(\"practice.txt\", \"r\") as data:\n",
        "\n",
        "  list_of_lines = data.readlines()\n",
        "\n",
        "print (\"\".join(list_of_lines [3:5]))"
      ],
      "metadata": {
        "colab": {
          "base_uri": "https://localhost:8080/"
        },
        "id": "TvxM3yGyuFFn",
        "outputId": "d9bb4ecf-2e0b-4bbd-e548-b553874bdc0a"
      },
      "execution_count": null,
      "outputs": [
        {
          "output_type": "stream",
          "name": "stdout",
          "text": [
            "And gallantly he chickened out\n",
            "He was not at all afraid to be killed in nasty ways\n",
            "\n"
          ]
        }
      ]
    },
    {
      "cell_type": "markdown",
      "source": [
        "# P15 Combining for Loops with file Objects"
      ],
      "metadata": {
        "id": "o_4_i89Yu5Il"
      }
    },
    {
      "cell_type": "markdown",
      "source": [
        "TASK P15.1"
      ],
      "metadata": {
        "id": "s6kr67Z8vCBF"
      }
    },
    {
      "cell_type": "code",
      "source": [
        "with open(\"practice.txt\", \"r\") as data:\n",
        "\n",
        "  for line in data:\n",
        "    print (line.rstrip())"
      ],
      "metadata": {
        "colab": {
          "base_uri": "https://localhost:8080/"
        },
        "id": "gHp-tKkhvDcf",
        "outputId": "3ce8b656-7698-4516-eb39-c7a1ba1c815e"
      },
      "execution_count": null,
      "outputs": [
        {
          "output_type": "stream",
          "name": "stdout",
          "text": [
            "Bravely bold Sir Robin rode forth from Camelot\n",
            "Yes, brave Sir Robin turned about\n",
            "He was not afraid to die, O brave Sir Robin\n",
            "And gallantly he chickened out\n",
            "He was not at all afraid to be killed in nasty ways\n",
            "Bravely talking to his feet\n",
            "Brave, brave, brave, brave Sir Robin\n",
            "He beat a very brave retreat\n"
          ]
        }
      ]
    },
    {
      "cell_type": "markdown",
      "source": [
        "TASK P15.2 Rosalind #4"
      ],
      "metadata": {
        "id": "7dzf2h60vsUH"
      }
    },
    {
      "cell_type": "code",
      "source": [
        "with open(\"practice.txt\", \"r\") as data:\n",
        "  list_of_lines = data.readlines()\n",
        "\n",
        "  for index in range(len(list_of_lines)):\n",
        "    if index % 2 == 1:\n",
        "      print (list_of_lines[index].rstrip())"
      ],
      "metadata": {
        "colab": {
          "base_uri": "https://localhost:8080/"
        },
        "id": "SHJPj1TwvwjO",
        "outputId": "d470aa02-3433-4650-81e3-a5a7c83d2854"
      },
      "execution_count": null,
      "outputs": [
        {
          "output_type": "stream",
          "name": "stdout",
          "text": [
            "Yes, brave Sir Robin turned about\n",
            "And gallantly he chickened out\n",
            "Bravely talking to his feet\n",
            "He beat a very brave retreat\n"
          ]
        }
      ]
    },
    {
      "cell_type": "code",
      "source": [
        "with open(\"rosalind_ini5.txt\", \"r\") as data:\n",
        "  list_of_lines = data.readlines()\n",
        "\n",
        "  for index in range(len(list_of_lines)):\n",
        "    if index % 2 == 1:\n",
        "      print (list_of_lines[index].rstrip())"
      ],
      "metadata": {
        "colab": {
          "base_uri": "https://localhost:8080/"
        },
        "id": "4EVX-JWBFSkD",
        "outputId": "f3a36a15-5d7c-41aa-be96-d524bb43264a"
      },
      "execution_count": 1,
      "outputs": [
        {
          "output_type": "stream",
          "name": "stdout",
          "text": [
            "Some things in life are bad, they can really make you mad\n",
            "Other things just make you swear and curse\n",
            "When you're chewing on life's gristle, don't grumble give a whistle\n",
            "This will help things turn out for the best\n",
            "Always look on the bright side of life\n",
            "Always look on the right side of life\n",
            "If life seems jolly rotten, there's something you've forgotten\n",
            "And that's to laugh and smile and dance and sing\n",
            "When you're feeling in the dumps, don't be silly, chumps\n",
            "Just purse your lips and whistle, that's the thing\n",
            "So, always look on the bright side of death\n",
            "Just before you draw your terminal breath\n",
            "Life's a counterfeit and when you look at it\n",
            "Life's a laugh and death's the joke, it's true\n",
            "You see, it's all a show, keep them laughing as you go\n",
            "Just remember the last laugh is on you\n",
            "Always look on the bright side of life\n",
            "And always look on the right side of life\n",
            "Always look on the bright side of life\n",
            "And always look on the right side of life\n"
          ]
        }
      ]
    },
    {
      "cell_type": "markdown",
      "source": [
        "# P16 for word in line.split()"
      ],
      "metadata": {
        "id": "yucWUUd8F5fS"
      }
    },
    {
      "cell_type": "markdown",
      "source": [
        "TASK P16.1"
      ],
      "metadata": {
        "id": "gAf5bTaNF-27"
      }
    },
    {
      "cell_type": "code",
      "source": [
        "with open(\"practice.txt\", \"r\") as data:\n",
        "\n",
        "  line = data.read()\n",
        "\n",
        "  for word in line.split():\n",
        "    dict = {}\n",
        "    dict[word] = line.count(word)\n",
        "\n",
        "    for key,value in dict.items():\n",
        "      print (key, value)\n",
        ""
      ],
      "metadata": {
        "colab": {
          "base_uri": "https://localhost:8080/"
        },
        "id": "bxhcpzfbHANq",
        "outputId": "e2fb6a6c-5339-4cda-ab78-add55b6c09b2"
      },
      "execution_count": 15,
      "outputs": [
        {
          "output_type": "stream",
          "name": "stdout",
          "text": [
            "We 1\n",
            "tried 3\n",
            "list 1\n",
            "and 1\n",
            "we 2\n",
            "tried 3\n",
            "dicts 1\n",
            "also 1\n",
            "we 2\n",
            "tried 3\n",
            "Zen 1\n"
          ]
        }
      ]
    },
    {
      "cell_type": "markdown",
      "source": [
        "# P17 Python Dictionaries"
      ],
      "metadata": {
        "id": "1BXUiwg6Hq1a"
      }
    },
    {
      "cell_type": "markdown",
      "source": [
        "TASK P17.1"
      ],
      "metadata": {
        "id": "eFOwssSeHvmy"
      }
    },
    {
      "cell_type": "code",
      "source": [
        "sequences = {\n",
        "    \"H.neandertalensis\":\"ACGTCGCTCTGCTA\",\n",
        "    \"H.sapiens\":\"ACGTCACTCTGCTA\"\n",
        "}\n",
        "\n",
        "print (sequences)"
      ],
      "metadata": {
        "colab": {
          "base_uri": "https://localhost:8080/"
        },
        "id": "5TBH8kMyH0da",
        "outputId": "0aee5565-fc97-4526-84ba-af59c93f86c3"
      },
      "execution_count": 5,
      "outputs": [
        {
          "output_type": "stream",
          "name": "stdout",
          "text": [
            "{'H.neandertalensis': 'ACGTCGCTCTGCTA', 'H.sapiens': 'ACGTCACTCTGCTA'}\n"
          ]
        }
      ]
    },
    {
      "cell_type": "code",
      "source": [
        "for key,value in sequences.items():\n",
        "  print (key,value)"
      ],
      "metadata": {
        "colab": {
          "base_uri": "https://localhost:8080/"
        },
        "id": "ZKbqnFo3JPlp",
        "outputId": "b299104e-5eff-467d-8dad-c0e544e65be5"
      },
      "execution_count": 6,
      "outputs": [
        {
          "output_type": "stream",
          "name": "stdout",
          "text": [
            "H.neandertalensis ACGTCGCTCTGCTA\n",
            "H.sapiens ACGTCACTCTGCTA\n"
          ]
        }
      ]
    },
    {
      "cell_type": "code",
      "source": [
        "with open(\"rosalind_6.txt\", \"r\") as data:\n",
        "  line = data.read()\n",
        "\n",
        "  word_counts = {}  # Create a dictionary to store word counts\n",
        "\n",
        "  for word in line.split():\n",
        "    word_counts[word] = word_counts.get(word, 0) + 1  # Count the occurrences of each word\n",
        "\n",
        "  for key,value in word_counts.items():  # Print the word and its count\n",
        "    print (key, value)"
      ],
      "metadata": {
        "colab": {
          "base_uri": "https://localhost:8080/"
        },
        "id": "4Npgcg25O224",
        "outputId": "202cd396-31b1-453f-ce40-ef11ac4025ec"
      },
      "execution_count": 17,
      "outputs": [
        {
          "output_type": "stream",
          "name": "stdout",
          "text": [
            "When 1\n",
            "I 2\n",
            "find 1\n",
            "myself 1\n",
            "in 4\n",
            "times 1\n",
            "of 11\n",
            "trouble 1\n",
            "Mother 2\n",
            "Mary 2\n",
            "comes 2\n",
            "to 3\n",
            "me 4\n",
            "Speaking 3\n",
            "words 7\n",
            "wisdom 7\n",
            "let 30\n",
            "it 36\n",
            "be 41\n",
            "And 3\n",
            "my 1\n",
            "hour 1\n",
            "darkness 1\n",
            "she 1\n",
            "is 4\n",
            "standing 1\n",
            "right 1\n",
            "front 1\n",
            "Let 6\n",
            "Whisper 4\n",
            "when 2\n",
            "the 4\n",
            "broken 1\n",
            "hearted 1\n",
            "people 1\n",
            "living 1\n",
            "world 1\n",
            "agree 1\n",
            "There 4\n",
            "will 5\n",
            "an 4\n",
            "answer 4\n",
            "For 1\n",
            "though 1\n",
            "they 2\n",
            "may 1\n",
            "parted 1\n",
            "there 2\n",
            "still 2\n",
            "a 2\n",
            "chance 1\n",
            "that 2\n",
            "see 1\n",
            "night 1\n",
            "cloudy 1\n",
            "light 1\n",
            "shines 1\n",
            "on 1\n",
            "Shine 1\n",
            "until 1\n",
            "tomorrow 1\n",
            "wake 1\n",
            "up 1\n",
            "sound 1\n",
            "music 1\n",
            "yeah 2\n"
          ]
        }
      ]
    },
    {
      "cell_type": "markdown",
      "source": [
        "# P19 count()"
      ],
      "metadata": {
        "id": "f7I7XCcoP9Wr"
      }
    },
    {
      "cell_type": "code",
      "source": [
        "with open(\"practice_2.txt\", \"r\") as data:\n",
        "  stringname = data.read()\n",
        "  print (stringname.count(\"A\"), stringname.count(\"C\"), stringname.count(\"G\"), stringname.count(\"T\"))"
      ],
      "metadata": {
        "colab": {
          "base_uri": "https://localhost:8080/"
        },
        "id": "uSKOwSKLQjtg",
        "outputId": "a2321a6c-7773-4b67-9c48-ab3947992d9d"
      },
      "execution_count": 20,
      "outputs": [
        {
          "output_type": "stream",
          "name": "stdout",
          "text": [
            "20 12 17 21\n"
          ]
        }
      ]
    },
    {
      "cell_type": "markdown",
      "source": [
        "TASK P19.1 Rosalind #6"
      ],
      "metadata": {
        "id": "tbB9xtgjRy6w"
      }
    },
    {
      "cell_type": "code",
      "source": [
        "with open(\"rosalind_dna.txt\", \"r\") as data:\n",
        "  stringname = data.read()\n",
        "  print (stringname.count(\"A\"), stringname.count(\"C\"), stringname.count(\"G\"), stringname.count(\"T\"))"
      ],
      "metadata": {
        "colab": {
          "base_uri": "https://localhost:8080/"
        },
        "id": "GudJcPpgR0fo",
        "outputId": "2c01ff34-e156-40f6-8539-faad074f6c82"
      },
      "execution_count": 22,
      "outputs": [
        {
          "output_type": "stream",
          "name": "stdout",
          "text": [
            "223 244 211 242\n"
          ]
        }
      ]
    },
    {
      "cell_type": "markdown",
      "source": [
        "# P20 biopython"
      ],
      "metadata": {
        "id": "9LKwcHNUUm8I"
      }
    },
    {
      "cell_type": "code",
      "source": [
        "!pip install biopython"
      ],
      "metadata": {
        "colab": {
          "base_uri": "https://localhost:8080/"
        },
        "id": "18CemngNTQ3I",
        "outputId": "bec1f328-98d2-4158-d922-eeaa57f5b447"
      },
      "execution_count": 30,
      "outputs": [
        {
          "output_type": "stream",
          "name": "stdout",
          "text": [
            "Collecting biopython\n",
            "  Downloading biopython-1.85-cp312-cp312-manylinux_2_17_x86_64.manylinux2014_x86_64.whl.metadata (13 kB)\n",
            "Requirement already satisfied: numpy in /usr/local/lib/python3.12/dist-packages (from biopython) (2.0.2)\n",
            "Downloading biopython-1.85-cp312-cp312-manylinux_2_17_x86_64.manylinux2014_x86_64.whl (3.3 MB)\n",
            "\u001b[?25l   \u001b[90m━━━━━━━━━━━━━━━━━━━━━━━━━━━━━━━━━━━━━━━━\u001b[0m \u001b[32m0.0/3.3 MB\u001b[0m \u001b[31m?\u001b[0m eta \u001b[36m-:--:--\u001b[0m\r\u001b[2K   \u001b[91m━\u001b[0m\u001b[91m╸\u001b[0m\u001b[90m━━━━━━━━━━━━━━━━━━━━━━━━━━━━━━━━━━━━━━\u001b[0m \u001b[32m0.2/3.3 MB\u001b[0m \u001b[31m4.3 MB/s\u001b[0m eta \u001b[36m0:00:01\u001b[0m\r\u001b[2K   \u001b[91m━━━━━━━━━━━━━━\u001b[0m\u001b[90m╺\u001b[0m\u001b[90m━━━━━━━━━━━━━━━━━━━━━━━━━\u001b[0m \u001b[32m1.2/3.3 MB\u001b[0m \u001b[31m16.8 MB/s\u001b[0m eta \u001b[36m0:00:01\u001b[0m\r\u001b[2K   \u001b[91m━━━━━━━━━━━━━━━━━━━━━━━━━━━━━━━━━━━━━━━\u001b[0m\u001b[91m╸\u001b[0m \u001b[32m3.3/3.3 MB\u001b[0m \u001b[31m37.2 MB/s\u001b[0m eta \u001b[36m0:00:01\u001b[0m\r\u001b[2K   \u001b[90m━━━━━━━━━━━━━━━━━━━━━━━━━━━━━━━━━━━━━━━━\u001b[0m \u001b[32m3.3/3.3 MB\u001b[0m \u001b[31m30.3 MB/s\u001b[0m eta \u001b[36m0:00:00\u001b[0m\n",
            "\u001b[?25hInstalling collected packages: biopython\n",
            "Successfully installed biopython-1.85\n"
          ]
        }
      ]
    },
    {
      "cell_type": "code",
      "metadata": {
        "colab": {
          "base_uri": "https://localhost:8080/"
        },
        "id": "47d3133e",
        "outputId": "cf645a8b-78b4-4fc1-d54a-474413a6f3ad"
      },
      "source": [
        "import Bio\n",
        "print(Bio.__version__)"
      ],
      "execution_count": 31,
      "outputs": [
        {
          "output_type": "stream",
          "name": "stdout",
          "text": [
            "1.85\n"
          ]
        }
      ]
    },
    {
      "cell_type": "markdown",
      "source": [
        "# P21"
      ],
      "metadata": {
        "id": "q_3u4x2oUuMw"
      }
    },
    {
      "cell_type": "code",
      "source": [
        "from Bio.Seq import Seq\n",
        "my_sequence = Seq(\"GATGGAACTTGACTACGTAAATT\")\n",
        "\n",
        "print (my_sequence.complement())"
      ],
      "metadata": {
        "colab": {
          "base_uri": "https://localhost:8080/"
        },
        "id": "FX6uE27XTwlw",
        "outputId": "9b5c889a-b8a9-4047-f8f1-369b6d497ac5"
      },
      "execution_count": 33,
      "outputs": [
        {
          "output_type": "stream",
          "name": "stdout",
          "text": [
            "CTACCTTGAACTGATGCATTTAA\n"
          ]
        }
      ]
    },
    {
      "cell_type": "code",
      "source": [
        "from Bio.Seq import Seq\n",
        "with open(\"practice_3.txt\", \"r\") as data:\n",
        "  my_sequence = Seq(data.read())\n",
        "  print (my_sequence.complement())"
      ],
      "metadata": {
        "colab": {
          "base_uri": "https://localhost:8080/"
        },
        "id": "DDN9gb-KUyH_",
        "outputId": "f2975cca-2777-40be-814f-15bf655f209e"
      },
      "execution_count": 34,
      "outputs": [
        {
          "output_type": "stream",
          "name": "stdout",
          "text": [
            "CTACCTTGAACTGATGCATTTAA\n"
          ]
        }
      ]
    },
    {
      "cell_type": "markdown",
      "source": [
        "Rosalind #7"
      ],
      "metadata": {
        "id": "ySiBmExLVOKQ"
      }
    },
    {
      "cell_type": "code",
      "source": [
        "from Bio.Seq import Seq\n",
        "with open(\"rosalind_rna1.txt\", \"r\") as data:\n",
        "  my_sequence = Seq(data.read())\n",
        "  print (my_sequence.transcribe())"
      ],
      "metadata": {
        "colab": {
          "base_uri": "https://localhost:8080/"
        },
        "id": "c1nKDvneVOhg",
        "outputId": "89a014af-cea7-4442-a6a9-8f647b71a4c4"
      },
      "execution_count": 44,
      "outputs": [
        {
          "output_type": "stream",
          "name": "stdout",
          "text": [
            "UGGCUAUAUCCAAAUCUACUUGUCCCCCAACCGAUUAGCUAGGACCACUCUCAGGGCAGCUUGCCACCCCCAUGGCGAUCGCUAAUUGACGUCGCAUAAUGAGUUAAUCAAGAUCUCCACUUUCACCUUGAGCUGCAGGACAGUUCUUCCCCGAGUAAAUGGUUGAGAAGUCUUACCUAACACGCUGGAGCUAAGUCCUUCGAGUGUUUGGGGUAAAGUCUGGUUCCUGGCGAGUAUCUGCUUCACAUCCGUCGGAGCGUGUAUAUUUGCGCCCAAGGUGGGUGCUGGUCCGAUGUCUCGAGUGAACAACACUCAGUUACAUCUAGGACGCUUACUAUUCGUCCAGCUCGAGGGUCUGGAUAAGCCCUAGCUCAAUUACAGGAUCUCCACUAUCCCAGAUUGCAGGAUUAGCGAACUUUCAGGUCGAGAUAUCUCAAACUAUGUGAUGCCACACUAGUUCUGCGAGAAUUUGCCAAGAGCUGGUAGAAAGUGAUACUGUGAUGUCGUAUGGGAGCGCUCACUUUCGUACAAUAAGCAUACAGCCCGUCCUUUGUCUCGAACGGAUUGCCUUCGAUACAGAAAGGAGUCAAAACAUGACAGAUGUUCAUUAAAGCACUAGACAGCCAUCAGGUUACGCUCGAGCCGGCUACUUGAGGACACGCUUCCCGAACAAGAAGCUCCACACAACGCUACUUGACGCAAGUAGGUUUUAGUGCUCCUCCGCAGCGACUCUAAAAUUUUAAUAGGGAGGUGUGAAUCGGAACUCGACGACAUUUAGAUCACGUCAUUUGUAGCUUGGUUGUCUAUUUCACAGAGAUUUCUACUAUAGGCUGCAUAUUUUUCAGGUUGCUCUAACGGCUGGGCCCUUUGACUGCCUUGGUCACCCCCAUAAGCCCCUACCUAUGAAACUCGCGUCCACAUU\n",
            "\n"
          ]
        }
      ]
    },
    {
      "cell_type": "markdown",
      "source": [
        "Rosalind #8"
      ],
      "metadata": {
        "id": "nuW7__DVXYKx"
      }
    },
    {
      "cell_type": "code",
      "source": [
        "from Bio.Seq import Seq\n",
        "with open(\"practice_4.txt\", \"r\") as data:\n",
        "  my_sequence = Seq(data.read())\n",
        "  print (my_sequence.translate())"
      ],
      "metadata": {
        "colab": {
          "base_uri": "https://localhost:8080/"
        },
        "id": "mUMjXxNgXZR4",
        "outputId": "1b3255e9-77ae-4f25-e643-a4f8280d4fe2"
      },
      "execution_count": 45,
      "outputs": [
        {
          "output_type": "stream",
          "name": "stdout",
          "text": [
            "MAMAPRTEINSTRING*\n"
          ]
        }
      ]
    },
    {
      "cell_type": "code",
      "source": [
        "from Bio.Seq import Seq\n",
        "with open(\"rosalind_prot.txt\", \"r\") as data:\n",
        "  my_sequence = Seq(data.read())\n",
        "  print (my_sequence.translate())"
      ],
      "metadata": {
        "colab": {
          "base_uri": "https://localhost:8080/"
        },
        "id": "-EssgpDhXuvJ",
        "outputId": "ef7cf8e4-9522-4d76-8537-336307e15209"
      },
      "execution_count": 46,
      "outputs": [
        {
          "output_type": "stream",
          "name": "stdout",
          "text": [
            "MEMLASNKPLGLMESGADLEHHSALLILKPSDNPCLGVTWGCHRSQRAPGCVTQTIFALCRAHGQGFGRLDNWSVVLISLHFTNQSAWNTDNTLPSTAVLALKKHSIIRVLDERLFSANLKVPCKWGIVTHHHLTLDKGPRPLSAHLGHGSTKVRSASFCVGIKRYSLRNPSHPRHSAPFRYSFCASNFLALCDCPRKLLPRLGIHGGEHQTPGGLRRRGWIVDQCTSAALRNHGTSMRTHEPCKAGGGYPVYVTREGVETLETSLITDYSFSCVIPRCRYRGYYIDRIRWARRTDVGISVQVRPPSGCTYLSSQIRACPYPTCNDQVRSHNLAQHISIQHGGRDLRLPKNIRSRPPLPLPNTENKYTSGDVEYLIAKGVCSRIRLVAPESSYSKQRTLGRGEGIEYNPVYTSQYGVSSKRSAQTLVLFLVGSVRVSVCHFDYESTSRTRRNTRCSRPWLRKRPLSRPYAVGDGGNAVSLGTMREWRYVHSRKEVDLNPSYDARSRTLGVLNTRYVSLRRKSLRGDWAVRPCVLWLVNPINDKWWLWRSSYLAYVSFVRIVDRSRKVTELGVIHGEHQCRPEVKISTSNQGLLSCSVFYPGKQCRPAPISDVINEFPSSKILVTIHQRGFAHPINKLWGARPRNKQESDHVPSEAVGTSKDSLADPLVDSSPDIAVRFAQDSHAPRSLGEFNLVQYLNKITESRVYLLCIQCGLFPVAYTSYCKLLFDDRSTYVPTVDQLSHLCHPCNAYEVMPWDRKSPIQEDSYGEEGQRSNRSPPYTATCRVSITRRFQKYIPRKTSADYNNGERSPEGTQPKTLLGGAVASYTFEVVTLGSGASLLTGYDAFFRVKLERYDISLYFWHVCVECPQIHRTLLLQSLEMPAVKLPEPQLLAITDVLNNEVLNFPSTCLSPSFKIPTLGGFIPQLESIPISIQRFGMVRRKRSSCVPYMDERVGPLAFVMDYVPSYLEFPFPDKKCGDSADAQNVPACTKISSTASCFYWMEHFDLVGVSLSIGLRPLRTGRCTEYLRDSAPITICSEFVLSYRLLYGNSLTEQAASKSQRNDLWGEPNVTILTPSRSQITHSFVSASYYSQESVHGSYAEPGRLHLPHGVMVGCPHTPDAHSDGLECINKWSALTSRYRPGSLIQTQRGSDPKGKQLRAIRKNLAVLHPETHTSELASSPVLTDPLVTRKMTQGPVTRSWRLSPFLLGVACRRPSLSANQPLSLVKRQFEQLTYIAPALGLPRYTSAIPRPRYQYRCLNLLPRLSSISLHSLRHDSMALENASINAPPIESAAAEETGRAQVCPTVTTPQKTPPPMIYIGPQYDVARIQYRKTNTGQIQCGERAYHLGKKGMSALQRRSIGRYIKRLNTTSLSRSTINKMRIDFYRPDDRALQDPHGRHFRLNMITWTRKIRSSWNHQLTISSLSINCSTSRTIQSGRITTSLDLGKLAKIAGQDASALWAKCQQLATIRTQGLSTEDHIMRLRETLPRHFLGNRLAAYRPKSSVRLLSNQLSHLLFGQQDTTLAPPTDWVARTTLLETQKYTERGEGRLIYDLCMVRRLYTGDQGAKKPDSAGLVWICYYFVINADLLELIHRFPPQNRLQPVCLLDLLGPPRSLLSLFSLGSNSSNQSATTSGEADTKGGTIFLAKVVPITLSLKRLSTRYHLSYLQAIISCFRETGELSDCVGKSLPAEREAPAFLVRGQTSYDFHAIRSSRPRSSAPPKGRLSHYEPAFLVSVARRLGRSDFLLVTGNTARTGLELNEARRRTYKACAATLFGELGWRPNTLHIPSVPRQEGVIRNASRPSMRAFNRTRVSLLRRVLLSVLLTLIVSAFEGVDVYMRGQRRQVRRTLTHARYEALNEHGDPPVLSKFPMCVAYWRKVPTSYPHALFSQLSTYSRLKPQCLTYICHPSGGSYSLLFYHSGRCRRDRRPVLLSVLHPSCCSGTMRLAIPERPGIVNCSSKFLRNVSYSLRATWVPQLRRCPHPLTWLAGYAFSLNVLDGLIQIRLESLVYLTGLRRTRAYPAASSIVVPLHKGLWSKLGQILLTTDILLVARTYGAIFLELCCCKLSKPLFCLKRILQLFGNIAHGWSTFVLNYSQMGPVLRYIITGVTIISAISYGGAQPNSIGCISICDEVDKFLLVNVPELSGRVSASAVPLVDFGVEHRSVPGILAPLLVGVTVTFFEPSSKCQVIYTWYCILGLRTGLVLEEMLHLCRRSARYAPSSSGTGRNRGPVTMSTDQGSHQDFSEKTIVCKPEPLAHPKTQVPAHLLGCVPLPSSLPVRSRHAAYPKYFQDPGSFRVTATGGLAFSVTHWRQPTSGHSQQGFGLESPTGKSVESDRTVKCNFSKIIRQNSKTPRRCGITVLIRVMATDRVTGSPPSGSRGNRYPVAHHEAKITAIIDVLTFFQRIFGTLHISCCSDTVPKRVNRRPSAKKRLEMTLSLSSTEAKRQFFMPGTVISNEAVDVPTLSRQFPRLPRSTRSPLLMDTDGTRRCKGLHAPPTTLRQSKVCEPRRSRAKSVRGWVLAKQPLTTYGWLSCLGSLFKLNHGCQRLVLHKLHLPLKFQLRGYCRQYLESCLIYYLDHPRLGLHRTLYLQNRVLAVTYRQTSRMTSVFLKKSGNVRPDMVASRGWLLDFPKNCVQLVRGPLDTGFDCPYLGVVEFMKVGVCDHMPTRSNRQRLPPFMAAPECIAIVVAALLSGNRRTTERMASIPPISVAGHRSVKNVARSRALEGYRGRRRLDKTNAMRVIKFFYITRVLYLARTCLGEEVTADSNTSRRNCRRSVYPVVRCEFSDEFCQAFITVFRLVYRSTPVKQHNECPQNPMIIHLHDVLVKRILWYPWTNCRVNSYSYAPPDMTSASLDLLTSNSMRQILYPALLYSVVSQRRGARARKGKKANRLENGFRSHSRQCQIRTGRLLCPRHRSGWWVTENCCVVHPPVNVGKVIIDYSDRTLTARLRLDSPVETVFGGRDRRLSNYEVKERLSTIPYLTILGCAYLTSALKRISLPLQIDGYPRARAVSLVVPLLIMYHSAGNGRRAERFSHTSPLTEFTVCTDIPRISDPASTSLLFPSPLNGEWARYATLRSTAEINLIKGAGRCAITSSHMSFSASQSKNTLRTVKAPYLRGGQVYPRLLIACKSNPFNGFAPGPRAVLMINSYYSIPHNGDCSVSRFIEPTCSNGISYQPSIQSVIVIRITERLYKIFRPFPHPTQPTVHGSFPYSTRGRSLEQNTRPEDKHSFSSAPFEQ*\n"
          ]
        },
        {
          "output_type": "stream",
          "name": "stderr",
          "text": [
            "/usr/local/lib/python3.12/dist-packages/Bio/Seq.py:2879: BiopythonWarning: Partial codon, len(sequence) not a multiple of three. Explicitly trim the sequence or add trailing N before translation. This may become an error in future.\n",
            "  warnings.warn(\n"
          ]
        }
      ]
    }
  ]
}